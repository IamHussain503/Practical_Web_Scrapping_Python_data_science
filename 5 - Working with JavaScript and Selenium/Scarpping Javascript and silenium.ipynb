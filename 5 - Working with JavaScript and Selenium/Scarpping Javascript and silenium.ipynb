{
 "cells": [
  {
   "cell_type": "markdown",
   "metadata": {},
   "source": [
    "#### Let’s now take a look at how we can deal with this use case of Javascript using requests and Beautiful Soup:"
   ]
  },
  {
   "cell_type": "code",
   "execution_count": 4,
   "metadata": {},
   "outputs": [
    {
     "name": "stdout",
     "output_type": "stream",
     "text": [
      "None\n",
      "<script>\r\n",
      "\t$(function() {\r\n",
      "\tdocument.cookie = \"jsenabled=1\";\r\n",
      "\t$.getJSON(\"quotes.php\", function(data) {\r\n",
      "\t\tvar items = [];\r\n",
      "\t\t$.each(data, function(key, val) {\r\n",
      "\t\t\titems.push(\"<li id='\" + key + \"'>\" + val + \"</li>\");\r\n",
      "\t\t});\r\n",
      "\t\t$(\"<ul/>\", {\r\n",
      "\t\t\thtml: items.join(\"\")\r\n",
      "\t\t\t}).appendTo(\"body\");\r\n",
      "\t\t});\r\n",
      "\t});\r\n",
      "\t</script>\n"
     ]
    }
   ],
   "source": [
    "import requests\n",
    "from bs4 import BeautifulSoup\n",
    "url = 'http://www.webscrapingfordatascience.com/simplejavascript/'\n",
    "r = requests.get(url)\n",
    "html_soup = BeautifulSoup(r.text, 'html.parser')\n",
    "# No tag will be found here\n",
    "ul_tag = html_soup.find('ul')\n",
    "print(ul_tag)\n",
    "# Show the JavaScript code\n",
    "script_tag = html_soup.find('script', attrs={'src': None})\n",
    "print(script_tag)"
   ]
  },
  {
   "cell_type": "markdown",
   "metadata": {},
   "source": [
    " We have no way to parse and query the actual JavaScript code.\n",
    "In simple situations such as this one, this is not necessarily a problem. We know\n",
    "that the browser is making requests to a page at “quotes.php”, and that we need to set a\n",
    "cookie. We can still scrape the data directly:\n",
    "\n"
   ]
  },
  {
   "cell_type": "code",
   "execution_count": 2,
   "metadata": {},
   "outputs": [
    {
     "name": "stdout",
     "output_type": "stream",
     "text": [
      "['Are you using a web scraper?']\n"
     ]
    }
   ],
   "source": [
    "import requests\n",
    "url = 'http://www.webscrapingfordatascience.com/simplejavascript/quotes.php'\n",
    "# Note that cookie values need to be provided as strings\n",
    "r = requests.get(url)\n",
    "print(r.json())"
   ]
  },
  {
   "cell_type": "code",
   "execution_count": 3,
   "metadata": {},
   "outputs": [
    {
     "name": "stdout",
     "output_type": "stream",
     "text": [
      "No quotes for you!\n"
     ]
    }
   ],
   "source": [
    "import requests\n",
    "url = 'http://www.webscrapingfordatascience.com/complexjavascript/'\n",
    "my_session = requests.Session()\n",
    "# Get the main page first to obtain the PHPSESSID cookie\n",
    "r = my_session.get(url)\n",
    "# Manually set the nonce cookie\n",
    "my_session.cookies.update({\n",
    "    'nonce': '2315'\n",
    "    })\n",
    "r = my_session.get(url + 'quotes.php', params={'p': '0'})\n",
    "print(r.text)\n",
    "# Shows: No quotes for you!"
   ]
  },
  {
   "cell_type": "markdown",
   "metadata": {},
   "source": [
    "Sadly, this doesn’t work. Figuring out why requires some creative thinking, though\n",
    "we can take a guess at what might be going wrong here. We’re getting a fresh session\n",
    "identifier by visiting the main page as if we were coming from a new browsing session\n",
    "to provide the “PHPSESSID” cookie. However, we’re reusing the “nonce” cookie value\n",
    "that our browser was using. The web page might see that this “nonce” value does not\n",
    "match with the “PHPSESSID” information. As such, we have no choice but to also reuse \n",
    "the “PHPSESSID” value. Again, yours might be different (inspect your browser’s network \n",
    "requests to see which values it is sending for your session):\n"
   ]
  },
  {
   "cell_type": "markdown",
   "metadata": {},
   "source": [
    "nonce=1497; _ga=GA1.2.1481335662.1625916386; PHPSESSID=li86h0i1o5igp31sge3ej1338h"
   ]
  },
  {
   "cell_type": "code",
   "execution_count": 5,
   "metadata": {},
   "outputs": [
    {
     "name": "stdout",
     "output_type": "stream",
     "text": [
      "<div class=\"quote decode\">TGlmZSBpcyBhYm91dCBtYWtpbmcgYW4gaW1wYWN0LCBub3QgbWFraW5nIGFuIGluY29tZS4gLUtldmluIEtydXNlDQo=</div><div class=\"quote decode\">CVdoYXRldmVyIHRoZSBtaW5kIG9mIG1hbiBjYW4gY29uY2VpdmUgYW5kIGJlbGlldmUsIGl0IGNhbiBhY2hpZXZlLiDigJNOYXBvbGVvbiBIaWxsDQo=</div><div class=\"quote decode\">CVN0cml2ZSBub3QgdG8gYmUgYSBzdWNjZXNzLCBidXQgcmF0aGVyIHRvIGJlIG9mIHZhbHVlLiDigJNBbGJlcnQgRWluc3RlaW4NCg==</div><br><br><br><br><a class=\"jscroll-next\" href=\"quotes.php?p=3\">Load more quotes</a>\n"
     ]
    }
   ],
   "source": [
    "import requests\n",
    "url = 'http://www.webscrapingfordatascience.com/complexjavascript/'\n",
    "my_cookies = {\n",
    "    'nonce':'1497',\n",
    "    'PHPSESSID': 'li86h0i1o5igp31sge3ej1338h'\n",
    "    }\n",
    "r = requests.get(url + 'quotes.php', params={'p': '0'}, cookies=my_cookies)\n",
    "print(r.text)"
   ]
  },
  {
   "cell_type": "code",
   "execution_count": null,
   "metadata": {},
   "outputs": [],
   "source": []
  },
  {
   "cell_type": "code",
   "execution_count": null,
   "metadata": {},
   "outputs": [],
   "source": []
  }
 ],
 "metadata": {
  "kernelspec": {
   "display_name": "Python 3",
   "language": "python",
   "name": "python3"
  },
  "language_info": {
   "codemirror_mode": {
    "name": "ipython",
    "version": 3
   },
   "file_extension": ".py",
   "mimetype": "text/x-python",
   "name": "python",
   "nbconvert_exporter": "python",
   "pygments_lexer": "ipython3",
   "version": "3.9.5"
  }
 },
 "nbformat": 4,
 "nbformat_minor": 4
}
