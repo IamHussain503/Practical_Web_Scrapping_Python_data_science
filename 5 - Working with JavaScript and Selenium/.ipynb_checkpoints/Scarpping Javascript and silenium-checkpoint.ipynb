{
 "cells": [
  {
   "cell_type": "markdown",
   "metadata": {},
   "source": [
    "#### Let’s now take a look at how we can deal with this use case of Javascript using requests and Beautiful Soup:"
   ]
  },
  {
   "cell_type": "code",
   "execution_count": 4,
   "metadata": {},
   "outputs": [
    {
     "name": "stdout",
     "output_type": "stream",
     "text": [
      "None\n",
      "<script>\r\n",
      "\t$(function() {\r\n",
      "\tdocument.cookie = \"jsenabled=1\";\r\n",
      "\t$.getJSON(\"quotes.php\", function(data) {\r\n",
      "\t\tvar items = [];\r\n",
      "\t\t$.each(data, function(key, val) {\r\n",
      "\t\t\titems.push(\"<li id='\" + key + \"'>\" + val + \"</li>\");\r\n",
      "\t\t});\r\n",
      "\t\t$(\"<ul/>\", {\r\n",
      "\t\t\thtml: items.join(\"\")\r\n",
      "\t\t\t}).appendTo(\"body\");\r\n",
      "\t\t});\r\n",
      "\t});\r\n",
      "\t</script>\n"
     ]
    }
   ],
   "source": [
    "import requests\n",
    "from bs4 import BeautifulSoup\n",
    "url = 'http://www.webscrapingfordatascience.com/simplejavascript/'\n",
    "r = requests.get(url)\n",
    "html_soup = BeautifulSoup(r.text, 'html.parser')\n",
    "# No tag will be found here\n",
    "ul_tag = html_soup.find('ul')\n",
    "print(ul_tag)\n",
    "# Show the JavaScript code\n",
    "script_tag = html_soup.find('script', attrs={'src': None})\n",
    "print(script_tag)"
   ]
  },
  {
   "cell_type": "markdown",
   "metadata": {},
   "source": [
    " We have no way to parse and query the actual JavaScript code.\n",
    "In simple situations such as this one, this is not necessarily a problem. We know\n",
    "that the browser is making requests to a page at “quotes.php”, and that we need to set a\n",
    "cookie. We can still scrape the data directly:\n",
    "\n"
   ]
  },
  {
   "cell_type": "code",
   "execution_count": 2,
   "metadata": {},
   "outputs": [
    {
     "name": "stdout",
     "output_type": "stream",
     "text": [
      "['Are you using a web scraper?']\n"
     ]
    }
   ],
   "source": [
    "#if sent request without cookies\n",
    "import requests\n",
    "url = 'http://www.webscrapingfordatascience.com/simplejavascript/quotes.php'\n",
    "# Note that cookie values need to be provided as strings\n",
    "r = requests.get(url)\n",
    "print(r.json())"
   ]
  },
  {
   "cell_type": "code",
   "execution_count": 3,
   "metadata": {},
   "outputs": [
    {
     "name": "stdout",
     "output_type": "stream",
     "text": [
      "No quotes for you!\n"
     ]
    }
   ],
   "source": [
    "import requests\n",
    "url = 'http://www.webscrapingfordatascience.com/complexjavascript/'\n",
    "my_session = requests.Session()\n",
    "# Get the main page first to obtain the PHPSESSID cookie\n",
    "r = my_session.get(url)\n",
    "# Manually set the nonce cookie\n",
    "my_session.cookies.update({\n",
    "    'nonce': '2315'\n",
    "    })\n",
    "r = my_session.get(url + 'quotes.php', params={'p': '0'})\n",
    "print(r.text)\n",
    "# Shows: No quotes for you!"
   ]
  },
  {
   "cell_type": "markdown",
   "metadata": {},
   "source": [
    "Sadly, this doesn’t work. Figuring out why requires some creative thinking, though\n",
    "we can take a guess at what might be going wrong here. We’re getting a fresh session\n",
    "identifier by visiting the main page as if we were coming from a new browsing session\n",
    "to provide the “PHPSESSID” cookie. However, we’re reusing the “nonce” cookie value\n",
    "that our browser was using. The web page might see that this “nonce” value does not\n",
    "match with the “PHPSESSID” information. As such, we have no choice but to also reuse \n",
    "the “PHPSESSID” value. Again, yours might be different (inspect your browser’s network \n",
    "requests to see which values it is sending for your session):\n"
   ]
  },
  {
   "cell_type": "markdown",
   "metadata": {},
   "source": [
    "nonce=1497; _ga=GA1.2.1481335662.1625916386; PHPSESSID=li86h0i1o5igp31sge3ej1338h"
   ]
  },
  {
   "cell_type": "code",
   "execution_count": 5,
   "metadata": {},
   "outputs": [
    {
     "name": "stdout",
     "output_type": "stream",
     "text": [
      "<div class=\"quote decode\">TGlmZSBpcyBhYm91dCBtYWtpbmcgYW4gaW1wYWN0LCBub3QgbWFraW5nIGFuIGluY29tZS4gLUtldmluIEtydXNlDQo=</div><div class=\"quote decode\">CVdoYXRldmVyIHRoZSBtaW5kIG9mIG1hbiBjYW4gY29uY2VpdmUgYW5kIGJlbGlldmUsIGl0IGNhbiBhY2hpZXZlLiDigJNOYXBvbGVvbiBIaWxsDQo=</div><div class=\"quote decode\">CVN0cml2ZSBub3QgdG8gYmUgYSBzdWNjZXNzLCBidXQgcmF0aGVyIHRvIGJlIG9mIHZhbHVlLiDigJNBbGJlcnQgRWluc3RlaW4NCg==</div><br><br><br><br><a class=\"jscroll-next\" href=\"quotes.php?p=3\">Load more quotes</a>\n"
     ]
    }
   ],
   "source": [
    "import requests\n",
    "url = 'http://www.webscrapingfordatascience.com/complexjavascript/'\n",
    "my_cookies = {\n",
    "    'nonce':'1497',\n",
    "    'PHPSESSID': 'li86h0i1o5igp31sge3ej1338h'\n",
    "    }\n",
    "r = requests.get(url + 'quotes.php', params={'p': '0'}, cookies=my_cookies)\n",
    "print(r.text)"
   ]
  },
  {
   "cell_type": "markdown",
   "metadata": {},
   "source": [
    "### Installing and using Selenium and Web driver, you should put chromedriver.exe in the same path as your working directory or set the path of the file in a variable and use this in the command webdriver.Chrome(path)"
   ]
  },
  {
   "cell_type": "markdown",
   "metadata": {},
   "source": [
    "Just as was the case with requests and Beautiful Soup, installing Selenium itself is\n",
    "simple with pip (refer back to section 1.2.1 if you still need to set up Python 3 and pip):\n",
    "pip install -U selenium\n",
    "Next, we need to download a WebDriver. Head to\n",
    "https://sites.google.com/a/chromium.org/chromedriver/downloads \n",
    "and download the latest release file matching\n",
    "your platform (Windows, Mac, or Linux). The ZIP file you downloaded will contain an\n",
    "executable called “chromedriver.exe” on Windows or just “chromedriver” otherwise. \n",
    "The easiest way to make sure Selenium can see this executable is simply by making sure\n",
    "it is located in the same directory as your Python scripts, in which case the following\n",
    "small example should work right away:"
   ]
  },
  {
   "cell_type": "code",
   "execution_count": 2,
   "metadata": {},
   "outputs": [
    {
     "name": "stdout",
     "output_type": "stream",
     "text": [
      "Press ENTER to close the automated browser\n"
     ]
    }
   ],
   "source": [
    "from selenium import webdriver\n",
    "url = 'http://www.webscrapingfordatascience.com/complexjavascript/'\n",
    "web_driv = \"E:\\\\17- web scrapping\\\\Practical_Web_Scrapping_Python_data_science-\\\\5 - Working with JavaScript and Selenium\\\\chromedriver.exe\"\n",
    "driver = webdriver.Chrome(web_driv)\n",
    "driver.get(url)\n",
    "input('Press ENTER to close the automated browser')\n",
    "driver.quit()"
   ]
  },
  {
   "cell_type": "markdown",
   "metadata": {},
   "source": [
    "Copy the content Using Silenium"
   ]
  },
  {
   "cell_type": "code",
   "execution_count": 1,
   "metadata": {},
   "outputs": [
    {
     "name": "stdout",
     "output_type": "stream",
     "text": [
      "Life is about making an impact, not making an income. -Kevin Kruse\n",
      "Whatever the mind of man can conceive and believe, it can achieve. –Napoleon Hill\n",
      "Strive not to be a success, but rather to be of value. –Albert Einstein\n",
      "Press ENTER to close the automated browser\n"
     ]
    }
   ],
   "source": [
    "from selenium import webdriver\n",
    "url = 'http://www.webscrapingfordatascience.com/complexjavascript/'\n",
    "driver = webdriver.Chrome()\n",
    "# Set an implicit wait\n",
    "driver.implicitly_wait(10)\n",
    "driver.get(url)\n",
    "for quote in driver.find_elements_by_class_name('quote'):\n",
    "    print(quote.text)\n",
    "input('Press ENTER to close the automated browser')\n",
    "driver.quit()"
   ]
  },
  {
   "cell_type": "code",
   "execution_count": 3,
   "metadata": {},
   "outputs": [
    {
     "ename": "SyntaxError",
     "evalue": "invalid syntax (<ipython-input-3-65f6334f66a1>, line 7)",
     "output_type": "error",
     "traceback": [
      "\u001b[1;36m  File \u001b[1;32m\"<ipython-input-3-65f6334f66a1>\"\u001b[1;36m, line \u001b[1;32m7\u001b[0m\n\u001b[1;33m    for quote in driver.find_element_*:\u001b[0m\n\u001b[1;37m                                      ^\u001b[0m\n\u001b[1;31mSyntaxError\u001b[0m\u001b[1;31m:\u001b[0m invalid syntax\n"
     ]
    }
   ],
   "source": [
    "## this code does not work with Wildcard use find_elements_*\n",
    "from selenium import webdriver\n",
    "url = 'http://www.webscrapingfordatascience.com/complexjavascript/'\n",
    "driver = webdriver.Chrome()\n",
    "# Set an implicit wait\n",
    "driver.implicitly_wait(10)\n",
    "driver.get(url)\n",
    "for quote in driver.find_element_*:\n",
    "    print(quote.text)\n",
    "input('Press ENTER to close the automated browser')\n",
    "driver.quit()"
   ]
  },
  {
   "cell_type": "markdown",
   "metadata": {},
   "source": [
    "implicit time in silenium"
   ]
  },
  {
   "cell_type": "code",
   "execution_count": 5,
   "metadata": {},
   "outputs": [
    {
     "name": "stdout",
     "output_type": "stream",
     "text": [
      "Life is about making an impact, not making an income. -Kevin Kruse\n",
      "Whatever the mind of man can conceive and believe, it can achieve. –Napoleon Hill\n",
      "Strive not to be a success, but rather to be of value. –Albert Einstein\n",
      "Press ENTER to close the automated browser\n"
     ]
    }
   ],
   "source": [
    "from selenium import webdriver\n",
    "url = 'http://www.webscrapingfordatascience.com/complexjavascript/'\n",
    "driver = webdriver.Chrome()\n",
    "# Set an implicit wait\n",
    "driver.implicitly_wait(10)\n",
    "driver.get(url)\n",
    "for quote in driver.find_elements_by_class_name('quote'):\n",
    "    print(quote.text)\n",
    "input('Press ENTER to close the automated browser')\n",
    "driver.quit()"
   ]
  },
  {
   "cell_type": "markdown",
   "metadata": {},
   "source": [
    "Expilicit Waiting "
   ]
  },
  {
   "cell_type": "code",
   "execution_count": 1,
   "metadata": {},
   "outputs": [
    {
     "name": "stdout",
     "output_type": "stream",
     "text": [
      "[<selenium.webdriver.remote.webelement.WebElement (session=\"c466a3fe59fcfb3a9bcbd53a3645a68a\", element=\"d9bf7563-d5cf-426f-b32f-a307b66e422e\")>, <selenium.webdriver.remote.webelement.WebElement (session=\"c466a3fe59fcfb3a9bcbd53a3645a68a\", element=\"e583a57c-d4b7-4025-a937-1428bc6ea257\")>, <selenium.webdriver.remote.webelement.WebElement (session=\"c466a3fe59fcfb3a9bcbd53a3645a68a\", element=\"4c5b8589-d688-4cbe-b280-200575f5228d\")>]\n",
      "Life is about making an impact, not making an income. -Kevin Kruse\n",
      "Whatever the mind of man can conceive and believe, it can achieve. –Napoleon Hill\n",
      "Strive not to be a success, but rather to be of value. –Albert Einstein\n",
      "Press ENTER to close the automated browser\n"
     ]
    }
   ],
   "source": [
    "from selenium import webdriver\n",
    "from selenium.webdriver.common.by import By\n",
    "from selenium.webdriver.support.ui import WebDriverWait\n",
    "from selenium.webdriver.support import expected_conditions as EC\n",
    "url = 'http://www.webscrapingfordatascience.com/complexjavascript/'\n",
    "driver = webdriver.Chrome()\n",
    "driver.get(url)\n",
    "quote_elements = WebDriverWait(driver, 10).until(\n",
    " EC.presence_of_all_elements_located(\n",
    " (By.CSS_SELECTOR, \".quote:not(.decode)\")\n",
    " )\n",
    ")\n",
    "print(quote_elements)\n",
    "for quote in quote_elements:\n",
    "    print(quote.text)\n",
    "input('Press ENTER to close the automated browser')\n",
    "driver.quit()"
   ]
  },
  {
   "cell_type": "code",
   "execution_count": null,
   "metadata": {},
   "outputs": [],
   "source": []
  },
  {
   "cell_type": "markdown",
   "metadata": {},
   "source": [
    "Define a custom condition in silenium "
   ]
  },
  {
   "cell_type": "code",
   "execution_count": 12,
   "metadata": {},
   "outputs": [],
   "source": [
    "from selenium import webdriver\n",
    "from selenium.webdriver.support.ui import WebDriverWait\n",
    "class at_least_n_elements_found(object):\n",
    "    def __init__(self, locator, n):\n",
    "        self.locator = locator\n",
    "        self.n = n\n",
    "    def __call__(self, driver):\n",
    " # Do something here and return False or something else\n",
    " # Depending on whether the condition holds\n",
    "        elements = driver.find_elements(*self.locator)\n",
    "        if len(elements) >= self.n:\n",
    "            return elements\n",
    "        else:\n",
    "            return False\n",
    "driver.get(url)\n",
    "element = WebDriverWait(driver, 10).until(\n",
    " at_least_n_elements_found((By.CLASS_NAME, 'my_class'), 3)\n",
    ")\n",
    "\n",
    "\n",
    "# for quote in element:\n",
    "#     print(quote.text)\n",
    "# input('Press ENTER to close the automated browser')\n",
    "# driver.quit()\n"
   ]
  },
  {
   "cell_type": "code",
   "execution_count": 4,
   "metadata": {},
   "outputs": [],
   "source": [
    "class at_least_n_elements_found(object):\n",
    "    def __init__(self, locator, n):\n",
    "        self.locator = locator\n",
    "        self.n = n\n",
    "    def __call__(self, driver):\n",
    " # Do something here and return False or something else\n",
    " # Depending on whether the condition holds\n",
    "        elements = driver.find_elements(*self.locator)\n",
    "        if len(elements) >= self.n:\n",
    "            return elements\n",
    "        else:\n",
    "            return False\n",
    "element = at_least_n_elements_found((By.CLASS_NAME, 'my_class'), 3)"
   ]
  },
  {
   "cell_type": "code",
   "execution_count": 8,
   "metadata": {},
   "outputs": [
    {
     "name": "stdout",
     "output_type": "stream",
     "text": [
      "('class name', 'my_class')\n"
     ]
    }
   ],
   "source": [
    "print(element.locator)"
   ]
  }
 ],
 "metadata": {
  "kernelspec": {
   "display_name": "Python 3",
   "language": "python",
   "name": "python3"
  },
  "language_info": {
   "codemirror_mode": {
    "name": "ipython",
    "version": 3
   },
   "file_extension": ".py",
   "mimetype": "text/x-python",
   "name": "python",
   "nbconvert_exporter": "python",
   "pygments_lexer": "ipython3",
   "version": "3.9.5"
  }
 },
 "nbformat": 4,
 "nbformat_minor": 4
}
